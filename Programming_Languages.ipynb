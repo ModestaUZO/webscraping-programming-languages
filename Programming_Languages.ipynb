{
 "cells": [
  {
   "cell_type": "markdown",
   "id": "8678a906-9975-483a-8313-db2ec645681d",
   "metadata": {},
   "source": [
    "# Capstone Project: Web Scraping Programming Languages Data\n",
    "## Modesta Uzochukwu"
   ]
  },
  {
   "cell_type": "markdown",
   "id": "9e1db867-73fe-49d8-986a-c99d63ab1429",
   "metadata": {},
   "source": [
    "As part of my Data Science Capstone Project with Coursera, I was tasked with scraping data from the internet and analyzing it.\n",
    "The dataset included the following key features:\n",
    "\n",
    "**◾Programming Languages**\n",
    "\n",
    "**◾Average Salary**\n",
    "\n",
    "**◾Learning Difficulty**"
   ]
  },
  {
   "cell_type": "markdown",
   "id": "93298cac-24e3-4e1a-b05c-917de5222e6e",
   "metadata": {},
   "source": [
    "## Tools and Technologies Used\n",
    "\n",
    "**Python 🐍** → Core programming language\n",
    "\n",
    "**BeautifulSoup** → For web scraping the data\n",
    "\n",
    "**Pandas** → For cleaning, organizing, and saving data\n",
    "\n",
    "**Matplotlib / Seaborn** → For visualization\n",
    "\n",
    "**Jupyter Notebook** → For analysis and documentation\n",
    "\n",
    "Pandas and Matplotlib were the most used tools throughout the project, especially for cleaning and visualization."
   ]
  },
  {
   "cell_type": "code",
   "execution_count": 21,
   "id": "93efead7-241b-46d9-95c5-db3437264472",
   "metadata": {},
   "outputs": [],
   "source": [
    "#this url contains the data i would scrape\n",
    "url= \"https://cf-courses-data.s3.us.cloud-object-storage.appdomain.cloud/IBM-DA0321EN-SkillsNetwork/labs/datasets/Programming_Languages.html\""
   ]
  },
  {
   "cell_type": "markdown",
   "id": "ae4217b2-0fe1-47ae-aecb-5ae9342d659a",
   "metadata": {},
   "source": [
    "## Data Collection\n",
    "\n",
    "The data was scraped from a reliable online source using *requests* and *BeautifulSoup*."
   ]
  },
  {
   "cell_type": "code",
   "execution_count": 22,
   "id": "99c94668-06c7-4f23-969f-8fd060768a34",
   "metadata": {},
   "outputs": [
    {
     "name": "stdout",
     "output_type": "stream",
     "text": [
      "<!DOCTYPE html>\n",
      "<html lang=\"en\">\n",
      " <head>\n",
      "  <title>\n",
      "   Salary survey results of programming languages\n",
      "  </title>\n",
      "  <style>\n",
      "   table, th, td {\n",
      "  border: 1px solid black;\n",
      "}\n",
      "  </style>\n",
      " </head>\n",
      " <body>\n",
      "  \n"
     ]
    }
   ],
   "source": [
    "from bs4 import BeautifulSoup\n",
    "import requests\n",
    "\n",
    "url = \"https://cf-courses-data.s3.us.cloud-object-storage.appdomain.cloud/IBM-DA0321EN-SkillsNetwork/labs/datasets/Programming_Languages.html\"\n",
    "data = requests.get(url).text\n",
    "\n",
    "# Use built-in parser\n",
    "soup = BeautifulSoup(data, \"html.parser\")\n",
    "\n",
    "# just to check: print the first 200 characters of the soup\n",
    "print(soup.prettify()[:200])\n"
   ]
  },
  {
   "cell_type": "code",
   "execution_count": 23,
   "id": "e0ba3076-cf8a-48ea-ab1e-8ecf9d57c111",
   "metadata": {},
   "outputs": [
    {
     "name": "stdout",
     "output_type": "stream",
     "text": [
      "['No.', 'Language', 'Created By', 'Average Annual Salary', 'Learning Difficulty']\n",
      "['1', 'Python', 'Guido van Rossum', '$114,383', 'Easy']\n"
     ]
    }
   ],
   "source": [
    "# find the table\n",
    "table = soup.find(\"table\")\n",
    "\n",
    "# get all rows (tr tags)\n",
    "rows = table.find_all(\"tr\")\n",
    "\n",
    "# Just peek at the first 2 rows to see structure\n",
    "for row in rows[:2]:\n",
    "    cols = row.find_all([\"th\", \"td\"])\n",
    "    print([col.get_text(strip=True) for col in cols])\n"
   ]
  },
  {
   "cell_type": "code",
   "execution_count": 24,
   "id": "dcf0b973-bc71-4039-a82d-7fd8037640ea",
   "metadata": {},
   "outputs": [
    {
     "name": "stdout",
     "output_type": "stream",
     "text": [
      "  No.    Language                    Created By Average Annual Salary  \\\n",
      "0   1      Python              Guido van Rossum              $114,383   \n",
      "1   2        Java                 James Gosling              $101,013   \n",
      "2   3           R  Robert Gentleman, Ross Ihaka               $92,037   \n",
      "3   4  Javascript                      Netscape              $110,981   \n",
      "4   5       Swift                         Apple              $130,801   \n",
      "\n",
      "  Learning Difficulty  \n",
      "0                Easy  \n",
      "1                Easy  \n",
      "2                Hard  \n",
      "3                Easy  \n",
      "4                Easy  \n"
     ]
    }
   ],
   "source": [
    "import pandas as pd\n",
    "\n",
    "# extract all rows into a list\n",
    "table = soup.find(\"table\")\n",
    "rows = table.find_all(\"tr\")\n",
    "\n",
    "data = []\n",
    "for row in rows:\n",
    "    cols = row.find_all([\"th\", \"td\"])\n",
    "    cols = [col.get_text(strip=True) for col in cols]\n",
    "    data.append(cols)\n",
    "\n",
    "# Step 5: first row is the header\n",
    "headers = data[0]\n",
    "rows_data = data[1:]\n",
    "\n",
    "# Step 6: put into pandas DataFrame\n",
    "df = pd.DataFrame(rows_data, columns=headers)\n",
    "\n",
    "# Peek at first 5 rows\n",
    "print(df.head())\n"
   ]
  },
  {
   "cell_type": "code",
   "execution_count": 25,
   "id": "a721d890-d812-42ba-9065-eefb02b9c947",
   "metadata": {},
   "outputs": [
    {
     "data": {
      "text/html": [
       "<style type=\"text/css\">\n",
       "</style>\n",
       "<table id=\"T_7a624\" style='display:inline'>\n",
       "  <caption>Programming Languages Table</caption>\n",
       "  <thead>\n",
       "    <tr>\n",
       "      <th class=\"blank level0\" >&nbsp;</th>\n",
       "      <th id=\"T_7a624_level0_col0\" class=\"col_heading level0 col0\" >No.</th>\n",
       "      <th id=\"T_7a624_level0_col1\" class=\"col_heading level0 col1\" >Language</th>\n",
       "      <th id=\"T_7a624_level0_col2\" class=\"col_heading level0 col2\" >Created By</th>\n",
       "      <th id=\"T_7a624_level0_col3\" class=\"col_heading level0 col3\" >Average Annual Salary</th>\n",
       "      <th id=\"T_7a624_level0_col4\" class=\"col_heading level0 col4\" >Learning Difficulty</th>\n",
       "    </tr>\n",
       "  </thead>\n",
       "  <tbody>\n",
       "    <tr>\n",
       "      <th id=\"T_7a624_level0_row0\" class=\"row_heading level0 row0\" >0</th>\n",
       "      <td id=\"T_7a624_row0_col0\" class=\"data row0 col0\" >1</td>\n",
       "      <td id=\"T_7a624_row0_col1\" class=\"data row0 col1\" >Python</td>\n",
       "      <td id=\"T_7a624_row0_col2\" class=\"data row0 col2\" >Guido van Rossum</td>\n",
       "      <td id=\"T_7a624_row0_col3\" class=\"data row0 col3\" >$114,383</td>\n",
       "      <td id=\"T_7a624_row0_col4\" class=\"data row0 col4\" >Easy</td>\n",
       "    </tr>\n",
       "    <tr>\n",
       "      <th id=\"T_7a624_level0_row1\" class=\"row_heading level0 row1\" >1</th>\n",
       "      <td id=\"T_7a624_row1_col0\" class=\"data row1 col0\" >2</td>\n",
       "      <td id=\"T_7a624_row1_col1\" class=\"data row1 col1\" >Java</td>\n",
       "      <td id=\"T_7a624_row1_col2\" class=\"data row1 col2\" >James Gosling</td>\n",
       "      <td id=\"T_7a624_row1_col3\" class=\"data row1 col3\" >$101,013</td>\n",
       "      <td id=\"T_7a624_row1_col4\" class=\"data row1 col4\" >Easy</td>\n",
       "    </tr>\n",
       "    <tr>\n",
       "      <th id=\"T_7a624_level0_row2\" class=\"row_heading level0 row2\" >2</th>\n",
       "      <td id=\"T_7a624_row2_col0\" class=\"data row2 col0\" >3</td>\n",
       "      <td id=\"T_7a624_row2_col1\" class=\"data row2 col1\" >R</td>\n",
       "      <td id=\"T_7a624_row2_col2\" class=\"data row2 col2\" >Robert Gentleman, Ross Ihaka</td>\n",
       "      <td id=\"T_7a624_row2_col3\" class=\"data row2 col3\" >$92,037</td>\n",
       "      <td id=\"T_7a624_row2_col4\" class=\"data row2 col4\" >Hard</td>\n",
       "    </tr>\n",
       "    <tr>\n",
       "      <th id=\"T_7a624_level0_row3\" class=\"row_heading level0 row3\" >3</th>\n",
       "      <td id=\"T_7a624_row3_col0\" class=\"data row3 col0\" >4</td>\n",
       "      <td id=\"T_7a624_row3_col1\" class=\"data row3 col1\" >Javascript</td>\n",
       "      <td id=\"T_7a624_row3_col2\" class=\"data row3 col2\" >Netscape</td>\n",
       "      <td id=\"T_7a624_row3_col3\" class=\"data row3 col3\" >$110,981</td>\n",
       "      <td id=\"T_7a624_row3_col4\" class=\"data row3 col4\" >Easy</td>\n",
       "    </tr>\n",
       "    <tr>\n",
       "      <th id=\"T_7a624_level0_row4\" class=\"row_heading level0 row4\" >4</th>\n",
       "      <td id=\"T_7a624_row4_col0\" class=\"data row4 col0\" >5</td>\n",
       "      <td id=\"T_7a624_row4_col1\" class=\"data row4 col1\" >Swift</td>\n",
       "      <td id=\"T_7a624_row4_col2\" class=\"data row4 col2\" >Apple</td>\n",
       "      <td id=\"T_7a624_row4_col3\" class=\"data row4 col3\" >$130,801</td>\n",
       "      <td id=\"T_7a624_row4_col4\" class=\"data row4 col4\" >Easy</td>\n",
       "    </tr>\n",
       "    <tr>\n",
       "      <th id=\"T_7a624_level0_row5\" class=\"row_heading level0 row5\" >5</th>\n",
       "      <td id=\"T_7a624_row5_col0\" class=\"data row5 col0\" >6</td>\n",
       "      <td id=\"T_7a624_row5_col1\" class=\"data row5 col1\" >C++</td>\n",
       "      <td id=\"T_7a624_row5_col2\" class=\"data row5 col2\" >Bjarne Stroustrup</td>\n",
       "      <td id=\"T_7a624_row5_col3\" class=\"data row5 col3\" >$113,865</td>\n",
       "      <td id=\"T_7a624_row5_col4\" class=\"data row5 col4\" >Hard</td>\n",
       "    </tr>\n",
       "    <tr>\n",
       "      <th id=\"T_7a624_level0_row6\" class=\"row_heading level0 row6\" >6</th>\n",
       "      <td id=\"T_7a624_row6_col0\" class=\"data row6 col0\" >7</td>\n",
       "      <td id=\"T_7a624_row6_col1\" class=\"data row6 col1\" >C#</td>\n",
       "      <td id=\"T_7a624_row6_col2\" class=\"data row6 col2\" >Microsoft</td>\n",
       "      <td id=\"T_7a624_row6_col3\" class=\"data row6 col3\" >$88,726</td>\n",
       "      <td id=\"T_7a624_row6_col4\" class=\"data row6 col4\" >Hard</td>\n",
       "    </tr>\n",
       "    <tr>\n",
       "      <th id=\"T_7a624_level0_row7\" class=\"row_heading level0 row7\" >7</th>\n",
       "      <td id=\"T_7a624_row7_col0\" class=\"data row7 col0\" >8</td>\n",
       "      <td id=\"T_7a624_row7_col1\" class=\"data row7 col1\" >PHP</td>\n",
       "      <td id=\"T_7a624_row7_col2\" class=\"data row7 col2\" >Rasmus Lerdorf</td>\n",
       "      <td id=\"T_7a624_row7_col3\" class=\"data row7 col3\" >$84,727</td>\n",
       "      <td id=\"T_7a624_row7_col4\" class=\"data row7 col4\" >Easy</td>\n",
       "    </tr>\n",
       "    <tr>\n",
       "      <th id=\"T_7a624_level0_row8\" class=\"row_heading level0 row8\" >8</th>\n",
       "      <td id=\"T_7a624_row8_col0\" class=\"data row8 col0\" >9</td>\n",
       "      <td id=\"T_7a624_row8_col1\" class=\"data row8 col1\" >SQL</td>\n",
       "      <td id=\"T_7a624_row8_col2\" class=\"data row8 col2\" >Donald D. Chamberlin, Raymond F. Boyce.</td>\n",
       "      <td id=\"T_7a624_row8_col3\" class=\"data row8 col3\" >$84,793</td>\n",
       "      <td id=\"T_7a624_row8_col4\" class=\"data row8 col4\" >Easy</td>\n",
       "    </tr>\n",
       "    <tr>\n",
       "      <th id=\"T_7a624_level0_row9\" class=\"row_heading level0 row9\" >9</th>\n",
       "      <td id=\"T_7a624_row9_col0\" class=\"data row9 col0\" >10</td>\n",
       "      <td id=\"T_7a624_row9_col1\" class=\"data row9 col1\" >Go</td>\n",
       "      <td id=\"T_7a624_row9_col2\" class=\"data row9 col2\" >Robert Griesemer, Ken Thompson, Rob Pike.</td>\n",
       "      <td id=\"T_7a624_row9_col3\" class=\"data row9 col3\" >$94,082</td>\n",
       "      <td id=\"T_7a624_row9_col4\" class=\"data row9 col4\" >Difficult</td>\n",
       "    </tr>\n",
       "  </tbody>\n",
       "</table>\n"
      ],
      "text/plain": [
       "<pandas.io.formats.style.Styler at 0x1a983004c10>"
      ]
     },
     "execution_count": 25,
     "metadata": {},
     "output_type": "execute_result"
    }
   ],
   "source": [
    "df.style.set_table_attributes(\"style='display:inline'\").set_caption(\"Programming Languages Table\")"
   ]
  },
  {
   "cell_type": "code",
   "execution_count": 27,
   "id": "317da07f-22c7-47c2-82dc-cccf95cb451e",
   "metadata": {},
   "outputs": [],
   "source": [
    "# Save the scraped programming languages table to a CSV file\n",
    "# 'index=False' makes sure the row numbers are not added as an extra column\n",
    "df.to_csv(\"popular_programming_languages.csv\", index=False)"
   ]
  },
  {
   "cell_type": "markdown",
   "id": "2d7b0ab0-5e55-4a38-aa9e-aabfdfde0e69",
   "metadata": {},
   "source": [
    "## Data Wrangling"
   ]
  },
  {
   "cell_type": "code",
   "execution_count": 14,
   "id": "f8fba782-4c32-4550-834f-6cfd50651666",
   "metadata": {},
   "outputs": [
    {
     "data": {
      "text/html": [
       "<div>\n",
       "<style scoped>\n",
       "    .dataframe tbody tr th:only-of-type {\n",
       "        vertical-align: middle;\n",
       "    }\n",
       "\n",
       "    .dataframe tbody tr th {\n",
       "        vertical-align: top;\n",
       "    }\n",
       "\n",
       "    .dataframe thead th {\n",
       "        text-align: right;\n",
       "    }\n",
       "</style>\n",
       "<table border=\"1\" class=\"dataframe\">\n",
       "  <thead>\n",
       "    <tr style=\"text-align: right;\">\n",
       "      <th></th>\n",
       "      <th>No.</th>\n",
       "      <th>Language</th>\n",
       "      <th>Created By</th>\n",
       "      <th>Average Annual Salary</th>\n",
       "      <th>Learning Difficulty</th>\n",
       "    </tr>\n",
       "  </thead>\n",
       "  <tbody>\n",
       "    <tr>\n",
       "      <th>0</th>\n",
       "      <td>1</td>\n",
       "      <td>Python</td>\n",
       "      <td>Guido van Rossum</td>\n",
       "      <td>114383</td>\n",
       "      <td>Easy</td>\n",
       "    </tr>\n",
       "    <tr>\n",
       "      <th>1</th>\n",
       "      <td>2</td>\n",
       "      <td>Java</td>\n",
       "      <td>James Gosling</td>\n",
       "      <td>101013</td>\n",
       "      <td>Easy</td>\n",
       "    </tr>\n",
       "    <tr>\n",
       "      <th>2</th>\n",
       "      <td>3</td>\n",
       "      <td>R</td>\n",
       "      <td>Robert Gentleman, Ross Ihaka</td>\n",
       "      <td>92037</td>\n",
       "      <td>Hard</td>\n",
       "    </tr>\n",
       "    <tr>\n",
       "      <th>3</th>\n",
       "      <td>4</td>\n",
       "      <td>Javascript</td>\n",
       "      <td>Netscape</td>\n",
       "      <td>110981</td>\n",
       "      <td>Easy</td>\n",
       "    </tr>\n",
       "    <tr>\n",
       "      <th>4</th>\n",
       "      <td>5</td>\n",
       "      <td>Swift</td>\n",
       "      <td>Apple</td>\n",
       "      <td>130801</td>\n",
       "      <td>Easy</td>\n",
       "    </tr>\n",
       "  </tbody>\n",
       "</table>\n",
       "</div>"
      ],
      "text/plain": [
       "  No.    Language                    Created By  Average Annual Salary  \\\n",
       "0   1      Python              Guido van Rossum                 114383   \n",
       "1   2        Java                 James Gosling                 101013   \n",
       "2   3           R  Robert Gentleman, Ross Ihaka                  92037   \n",
       "3   4  Javascript                      Netscape                 110981   \n",
       "4   5       Swift                         Apple                 130801   \n",
       "\n",
       "  Learning Difficulty  \n",
       "0                Easy  \n",
       "1                Easy  \n",
       "2                Hard  \n",
       "3                Easy  \n",
       "4                Easy  "
      ]
     },
     "execution_count": 14,
     "metadata": {},
     "output_type": "execute_result"
    }
   ],
   "source": [
    "# Clean the 'Average Annual Salary' column:\n",
    "# 1. I will remove the '$' symbol because it is not numeric.\n",
    "# 2. Also, i will remove commas so numbers can be converted to integers.\n",
    "# 3. Finally, i will convert the column to integer type for numerical analysis and visualization.\n",
    "\n",
    "df[\"Average Annual Salary\"] = (\n",
    "    df[\"Average Annual Salary\"]\n",
    "    .str.replace(\"$\", \"\", regex=False)\n",
    "    .str.replace(\",\", \"\", regex=False)\n",
    "    .astype(int)\n",
    ")\n",
    "\n",
    "df.head()"
   ]
  },
  {
   "cell_type": "markdown",
   "id": "a5bb8031-d8d7-4d32-a70c-bd00224c4f94",
   "metadata": {},
   "source": [
    "## Data Visualization"
   ]
  },
  {
   "cell_type": "code",
   "execution_count": 15,
   "id": "a57e36c6-ac97-4779-97a8-88067a34e6b0",
   "metadata": {},
   "outputs": [
    {
     "data": {
      "image/png": "[encoded data removed]",
      "text/plain": [
       "<Figure size 1000x600 with 1 Axes>"
      ]
     },
     "metadata": {},
     "output_type": "display_data"
    }
   ],
   "source": [
    "import matplotlib.pyplot as plt\n",
    "\n",
    "# Sort by salary\n",
    "df_sorted = df.sort_values(\"Average Annual Salary\", ascending=True)\n",
    "\n",
    "# Plot horizontal bar chart\n",
    "plt.figure(figsize=(10,6))\n",
    "plt.barh(df_sorted[\"Language\"], df_sorted[\"Average Annual Salary\"], color=\"skyblue\")\n",
    "plt.xlabel(\"Average Annual Salary ($)\")\n",
    "plt.title(\"Average Salary by Programming Language\")\n",
    "plt.show()"
   ]
  },
  {
   "cell_type": "markdown",
   "id": "f8a873ff-20e2-42c2-a99f-abacd6fbbdd3",
   "metadata": {},
   "source": [
    "## Findings"
   ]
  },
  {
   "cell_type": "raw",
   "id": "9999d45e-5634-4597-924a-0536d12f0e32",
   "metadata": {},
   "source": [
    "Highest-paying language: Swift ($130,801)\n",
    "\n",
    "Other strong earners: Python ($114,383), C++ ($113,865), JavaScript ($110,981)\n",
    "\n",
    "Lowest-paying languages: PHP ($84,727), SQL ($84,793))\r\n"
   ]
  },
  {
   "cell_type": "markdown",
   "id": "f1d256c4-5d12-4be5-a767-1eb45892aabf",
   "metadata": {},
   "source": [
    "**Insight**: While specialized languages like Swift command the highest salaries, general-purpose languages like Python and JavaScript also offer competitive pay, making them attractive choices for learners and professionals."
   ]
  },
  {
   "cell_type": "code",
   "execution_count": 30,
   "id": "36fb4a9f-7cb2-4777-bb38-30c0c5261636",
   "metadata": {},
   "outputs": [
    {
     "data": {
      "image/png": "[encoded data removed]",
      "text/plain": [
       "<Figure size 600x400 with 1 Axes>"
      ]
     },
     "metadata": {},
     "output_type": "display_data"
    },
    {
     "data": {
      "text/html": [
       "<div>\n",
       "<style scoped>\n",
       "    .dataframe tbody tr th:only-of-type {\n",
       "        vertical-align: middle;\n",
       "    }\n",
       "\n",
       "    .dataframe tbody tr th {\n",
       "        vertical-align: top;\n",
       "    }\n",
       "\n",
       "    .dataframe thead th {\n",
       "        text-align: right;\n",
       "    }\n",
       "</style>\n",
       "<table border=\"1\" class=\"dataframe\">\n",
       "  <thead>\n",
       "    <tr style=\"text-align: right;\">\n",
       "      <th></th>\n",
       "      <th>Learning Difficulty</th>\n",
       "      <th>Languages</th>\n",
       "    </tr>\n",
       "  </thead>\n",
       "  <tbody>\n",
       "    <tr>\n",
       "      <th>0</th>\n",
       "      <td>Difficult</td>\n",
       "      <td>Go</td>\n",
       "    </tr>\n",
       "    <tr>\n",
       "      <th>1</th>\n",
       "      <td>Easy</td>\n",
       "      <td>Python, Java, Javascript, Swift, PHP, SQL</td>\n",
       "    </tr>\n",
       "    <tr>\n",
       "      <th>2</th>\n",
       "      <td>Hard</td>\n",
       "      <td>R, C++, C#</td>\n",
       "    </tr>\n",
       "  </tbody>\n",
       "</table>\n",
       "</div>"
      ],
      "text/plain": [
       "  Learning Difficulty                                  Languages\n",
       "0           Difficult                                         Go\n",
       "1                Easy  Python, Java, Javascript, Swift, PHP, SQL\n",
       "2                Hard                                 R, C++, C#"
      ]
     },
     "metadata": {},
     "output_type": "display_data"
    }
   ],
   "source": [
    "import matplotlib.pyplot as plt\n",
    "import seaborn as sns\n",
    "\n",
    "# Count of languages by difficulty (for the bar chart)\n",
    "difficulty_counts = df[\"Learning Difficulty\"].value_counts()\n",
    "\n",
    "# Plot bar chart\n",
    "plt.figure(figsize=(6,4))\n",
    "sns.barplot(x=difficulty_counts.index, y=difficulty_counts.values, palette=\"pastel\")\n",
    "plt.title(\"Count of Programming Languages by Learning Difficulty\")\n",
    "plt.ylabel(\"Number of Languages\")\n",
    "plt.xlabel(\"Learning Difficulty\")\n",
    "plt.show()\n",
    "\n",
    "# Show table of which languages belong to each difficulty\n",
    "difficulty_groups = df.groupby(\"Learning Difficulty\")[\"Language\"].apply(lambda x: ', '.join(x))\n",
    "difficulty_groups = difficulty_groups.reset_index()\n",
    "difficulty_groups.columns = [\"Learning Difficulty\", \"Languages\"]\n",
    "\n",
    "display(difficulty_groups)"
   ]
  },
  {
   "cell_type": "markdown",
   "id": "fbb1552e-eff0-42b7-b692-f50cb0d04ba9",
   "metadata": {},
   "source": [
    "## Findings"
   ]
  },
  {
   "cell_type": "raw",
   "id": "9503094b-a3d8-4221-8dc0-dd4d2cd33614",
   "metadata": {},
   "source": [
    "Easy: Python, Java, JavaScript, Swift, PHP, SQL\n",
    "\n",
    "Hard: R, C++, C#\n",
    "\n",
    "Difficult: Go"
   ]
  },
  {
   "cell_type": "markdown",
   "id": "630fb78a-7897-417c-ba88-471d531318e6",
   "metadata": {},
   "source": [
    "**Insight**: Most high-paying languages (Python, Swift, JavaScript) are easy to learn, making them accessible for beginners while still being financially rewarding. In contrast, harder-to-learn languages (C++, R, C#) don’t always guarantee higher salaries."
   ]
  },
  {
   "cell_type": "markdown",
   "id": "a205aed0-6b47-4ab3-a828-5d4f711e0b79",
   "metadata": {},
   "source": [
    "## Conclusion\n"
   ]
  },
  {
   "cell_type": "markdown",
   "id": "42255434-2072-4b99-ab15-c51524b4cf1f",
   "metadata": {},
   "source": [
    "This project demonstrates my web scraping, data cleaning, and visualization skills by extracting programming languages data from a web page, processing it, and generating actionable insights.\n",
    "\n",
    "By combining Python, BeautifulSoup, Pandas, and Matplotlib/Seaborn, I was able to clean, analyze, and visualize the dataset, highlighting both salary trends and learning difficulty levels for each programming language.\n",
    "\n",
    "Overall, this capstone project showcases my ability to conduct structured research, handle real-world datasets, and communicate findings effectively, demonstrating key skills for data-driven decision-making."
   ]
  }
 ],
 "metadata": {
  "kernelspec": {
   "display_name": "Python 3 (ipykernel)",
   "language": "python",
   "name": "python3"
  },
  "language_info": {
   "codemirror_mode": {
    "name": "ipython",
    "version": 3
   },
   "file_extension": ".py",
   "mimetype": "text/x-python",
   "name": "python",
   "nbconvert_exporter": "python",
   "pygments_lexer": "ipython3",
   "version": "3.11.7"
  }
 },
 "nbformat": 4,
 "nbformat_minor": 5
}
